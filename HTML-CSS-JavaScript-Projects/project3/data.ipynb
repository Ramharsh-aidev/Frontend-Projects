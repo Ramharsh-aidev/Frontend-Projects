{
 "cells": [
  {
   "cell_type": "code",
   "execution_count": 4,
   "metadata": {},
   "outputs": [],
   "source": [
    "# structure of the json file\n",
    "import pandas as pd\n",
    "import json\n",
    "json_file = {\n",
    "    \"Algorithm 1\" : {\n",
    "        \n",
    "    },\n",
    "    \"Algorithm 2\" : {\n",
    "        \n",
    "    },\n",
    "    \"Algorithm 3\" : {\n",
    "        \n",
    "    },\n",
    "    \"Algorithm 4\" : {\n",
    "        \n",
    "    },\n",
    "    \"Algorithm 5\" : {\n",
    "        \n",
    "    },\n",
    "}"
   ]
  },
  {
   "cell_type": "code",
   "execution_count": 2,
   "metadata": {},
   "outputs": [],
   "source": [
    "file_name = ['Algorithm 1', 'Algorithm 2', 'Algorithm 3', 'Algorithm 4', 'Algorithm 5']"
   ]
  },
  {
   "cell_type": "code",
   "execution_count": 3,
   "metadata": {},
   "outputs": [],
   "source": [
    "columns = [\"Sr. No.\" , \"Question\" , \"Correct Option\" , \"Option 2\" , \"Option 3\" ,\"Option 4\"]\n",
    "\n",
    "dataframe = pd.DataFrame(columns = columns)"
   ]
  },
  {
   "cell_type": "code",
   "execution_count": 11,
   "metadata": {},
   "outputs": [],
   "source": [
    "for ele in file_name:\n",
    "    dataframe.to_excel(ele + '.xlsx')"
   ]
  },
  {
   "cell_type": "code",
   "execution_count": 31,
   "metadata": {},
   "outputs": [],
   "source": [
    "for file in file_name:\n",
    "    a = pd.read_excel(f\"{file}.xlsx\").drop(\"Unnamed: 0\" , axis = 1)\n",
    "    for row in range(0,len(a)):\n",
    "        json_file['Algorithm 1'][a.iloc[row]['Question']] = [a.iloc[row]['Correct Option'] , a.iloc[row]['Option 2'] , a.iloc[row]['Option 3'] , a.iloc[row]['Option 4']]"
   ]
  },
  {
   "cell_type": "code",
   "execution_count": 5,
   "metadata": {},
   "outputs": [],
   "source": [
    "with open(\"question.json\", \"w\") as data_file: \n",
    "    json.dump(json_file, data_file)"
   ]
  },
  {
   "cell_type": "code",
   "execution_count": null,
   "metadata": {},
   "outputs": [],
   "source": []
  }
 ],
 "metadata": {
  "kernelspec": {
   "display_name": "Python 3",
   "language": "python",
   "name": "python3"
  },
  "language_info": {
   "codemirror_mode": {
    "name": "ipython",
    "version": 3
   },
   "file_extension": ".py",
   "mimetype": "text/x-python",
   "name": "python",
   "nbconvert_exporter": "python",
   "pygments_lexer": "ipython3",
   "version": "3.12.6"
  }
 },
 "nbformat": 4,
 "nbformat_minor": 2
}
